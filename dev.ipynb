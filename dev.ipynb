{
 "cells": [
  {
   "cell_type": "code",
   "execution_count": 6,
   "metadata": {},
   "outputs": [
    {
     "data": {
      "text/plain": [
       "{'id': '11e6e6c4-4141-4b91-be8d-cf1a013aeda2', 'inserted_on': datetime.datetime(2023, 11, 14, 10, 15, 57, tzinfo=datetime.timezone.utc), 'expires_on': datetime.datetime(2023, 11, 21, 10, 15, 57, tzinfo=datetime.timezone.utc), 'dequeue_count': None, 'content': '{\"Name\":{\"0\":\"Alice\",\"1\":\"Bob\",\"2\":\"Charlie\"},\"Age\":{\"0\":25,\"1\":30,\"2\":22}}', 'pop_receipt': 'AgAAAAMAAAAAAAAAaog1j+MW2gE=', 'next_visible_on': datetime.datetime(2023, 11, 14, 10, 15, 57, tzinfo=datetime.timezone.utc)}"
      ]
     },
     "execution_count": 6,
     "metadata": {},
     "output_type": "execute_result"
    }
   ],
   "source": [
    "import json\n",
    "import pandas as pd\n",
    "from azure.storage.queue import QueueServiceClient\n",
    "\n",
    "connection_string = 'DefaultEndpointsProtocol=https;AccountName=cloudformesdata;AccountKey=V3a7emh71+MSTdHykDKaZS9NPzwlp/orebGlYCNGNet5PgRgl7o94lafftuIO1JaOc+sNjFisdCt+AStR14uag==;EndpointSuffix=core.windows.net'\n",
    "queue_service_client = QueueServiceClient.from_connection_string(connection_string)\n",
    "\n",
    "# Specify the queue name\n",
    "queue_name = 'dt-input'\n",
    "\n",
    "queue_client = queue_service_client.get_queue_client(queue_name)\n",
    "\n",
    "data = pd.DataFrame({'Name': ['Alice', 'Bob', 'Charlie'], 'Age': [25, 30, 22]}).to_json()\n",
    "\n",
    "# Enqueue the JSON string as a message\n",
    "queue_client.send_message(data)\n",
    "\n"
   ]
  },
  {
   "cell_type": "code",
   "execution_count": 7,
   "metadata": {},
   "outputs": [
    {
     "name": "stdout",
     "output_type": "stream",
     "text": [
      "Received message: {\"Name\":{\"0\":\"Alice\",\"1\":\"Bob\",\"2\":\"Charlie\"},\"Age\":{\"0\":25,\"1\":30,\"2\":22}}\n",
      "Deleted message: {\"Name\":{\"0\":\"Alice\",\"1\":\"Bob\",\"2\":\"Charlie\"},\"Age\":{\"0\":25,\"1\":30,\"2\":22}}\n"
     ]
    }
   ],
   "source": [
    "from azure.storage.queue import QueueServiceClient\n",
    "\n",
    "# Your connection string\n",
    "connection_string = 'DefaultEndpointsProtocol=https;AccountName=cloudformesdata;AccountKey=V3a7emh71+MSTdHykDKaZS9NPzwlp/orebGlYCNGNet5PgRgl7o94lafftuIO1JaOc+sNjFisdCt+AStR14uag==;EndpointSuffix=core.windows.net'\n",
    "\n",
    "# Initialize the QueueServiceClient\n",
    "queue_service_client = QueueServiceClient.from_connection_string(connection_string)\n",
    "\n",
    "# Specify the queue name\n",
    "queue_name = 'dt-input'\n",
    "\n",
    "# Get a client to interact with the queue\n",
    "queue_client = queue_service_client.get_queue_client(queue_name)\n",
    "\n",
    "# Receive messages from the queue\n",
    "messages = queue_client.receive_messages()\n",
    "\n",
    "# Process the received messages\n",
    "for message in messages:\n",
    "    print(f\"Received message: {message.content}\")\n",
    "\n",
    "    # Process the message content as needed\n",
    "\n",
    "    # After processing, you should delete the message to remove it from the queue\n",
    "    queue_client.delete_message(message.id, message.pop_receipt)\n",
    "    print(f\"Deleted message: {message.content}\")\n"
   ]
  },
  {
   "cell_type": "code",
   "execution_count": 6,
   "metadata": {},
   "outputs": [
    {
     "name": "stdout",
     "output_type": "stream",
     "text": [
      "hello\n",
      "10\n"
     ]
    },
    {
     "name": "stderr",
     "output_type": "stream",
     "text": [
      "C:\\Users\\Lorenzo\\AppData\\Local\\Temp\\ipykernel_13156\\293831239.py:3: RuntimeWarning: coroutine 'sleep' was never awaited\n",
      "  asyncio.sleep(4, result=print('hello'))\n",
      "RuntimeWarning: Enable tracemalloc to get the object allocation traceback\n"
     ]
    }
   ],
   "source": [
    "import asyncio\n",
    "\n",
    "asyncio.sleep(4, result=print('hello'))\n",
    "print(10)"
   ]
  },
  {
   "cell_type": "code",
   "execution_count": 8,
   "metadata": {},
   "outputs": [
    {
     "name": "stdout",
     "output_type": "stream",
     "text": [
      "{'model_path': 'C:/Users/Lorenzo/Dropbox (DIG)/Ricerca/GEORGIA TECH/DTbasedcontrol/LineaPoli_corretta_revLR (5).spp', 'output_path': 'C:/Users/Lorenzo/Dropbox (DIG)/Ricerca/GEORGIA TECH/DTbasedcontrol/Output', 'input_path': 'C:/Users/Lorenzo/Dropbox (DIG)/Ricerca/GEORGIA TECH/DTbasedcontrol/DB'}\n",
      "\n",
      "+++ Launching Plant Simulation (version=16.0, license=Student, visibility=True, trust_models=True) +++\n",
      "\n",
      "Loading model \"C:/Users/Lorenzo/Dropbox (DIG)/Ricerca/GEORGIA TECH/DTbasedcontrol/LineaPoli_corretta_revLR (5).spp\"...\n",
      "\n"
     ]
    }
   ],
   "source": [
    "from plantsim.plantsim import Plantsim\n",
    "from plantsim.table import Table\n",
    "import json\n",
    "with open('config.json') as f:\n",
    "    paths = json.load(f)\n",
    "    model_path = paths['model_path']\n",
    "    output_path = paths['output_path']\n",
    "    input_path = paths['input_path']\n",
    "    output_filenames = [\"FinishTimes.xlsx\",\"TotEnergyConsumption.xlsx\"]\n",
    "    print(paths)\n",
    "\n",
    "plantsim = Plantsim(version = '16.0', license_type='Student', trust_models=True)\n",
    "plantsim.load_model(model_path)\n",
    "plantsim.set_path_context('.Models.Model')\n",
    "plantsim.set_event_controller()\n",
    "\n",
    "# plantsim.execute_simtalk('modelPath:=')\n"
   ]
  },
  {
   "cell_type": "code",
   "execution_count": 12,
   "metadata": {},
   "outputs": [
    {
     "data": {
      "text/plain": [
       "'LineaPoli_corretta_revLR (5).spp'"
      ]
     },
     "execution_count": 12,
     "metadata": {},
     "output_type": "execute_result"
    }
   ],
   "source": [
    "model_path.rsplit('/',1)[-1]"
   ]
  },
  {
   "cell_type": "code",
   "execution_count": 7,
   "metadata": {},
   "outputs": [
    {
     "data": {
      "text/plain": [
       "('C:/Users/Lorenzo/Desktop/GSOM_sim/temp/zcCNnOuOOTOWZCQu', 'zcCNnOuOOTOWZCQu')"
      ]
     },
     "execution_count": 7,
     "metadata": {},
     "output_type": "execute_result"
    }
   ],
   "source": [
    "import random\n",
    "from string import ascii_letters as letters\n",
    "import shutil\n",
    "import os\n",
    "\n",
    "def create_temp(source_folder):\n",
    "    while True:\n",
    "        string = ''.join(random.choice(letters) for _ in range(16))\n",
    "        destination_folder = os.path.dirname(source_folder)+'/temp/'+ string\n",
    "        if not os.path.exists(destination_folder) and not os.path.isdir(destination_folder):\n",
    "            break\n",
    "    shutil.copytree(source_folder, destination_folder)\n",
    "    return destination_folder, string\n",
    "\n",
    "create_temp(\"C:/Users/Lorenzo/Desktop/GSOM_sim/results\")\n",
    "\n",
    "model_path"
   ]
  },
  {
   "cell_type": "code",
   "execution_count": 1,
   "metadata": {},
   "outputs": [],
   "source": [
    "from DTPPC.digitaltwin import DigitalTwin\n",
    "dt=DigitalTwin()\n",
    "a=dt.new()"
   ]
  },
  {
   "cell_type": "code",
   "execution_count": 30,
   "metadata": {},
   "outputs": [],
   "source": [
    "from typing import Any\n",
    "from DTPPC.digitaltwin import DigitalTwin\n",
    "\n",
    "class DT(DigitalTwin):\n",
    "    def interface(self, taskResourceInformation: dict = ..., controlUpdate=None, request=None, write=False) -> None:\n",
    "        print(*args)\n",
    "        return super().interface(taskResourceInformation, controlUpdate, request, write)\n",
    "    def clear(self, name: str = ''):\n",
    "        return super().clear(name)\n",
    "    def new(self) -> str:\n",
    "        return super().new()\n",
    "\n",
    "\n",
    "\n",
    "class WebCall:\n",
    "    def __getattribute__(self, name):\n",
    "        attr = object.__getattribute__(self, name)\n",
    "        if callable(attr):\n",
    "            def custom_method(*args, **kwargs):\n",
    "                print(f\"Intercepted call to method '{name}' with args: {args} and kwargs: {kwargs}\")\n",
    "                # You can perform custom actions here before calling the method\n",
    "                return attr(*args, **kwargs)\n",
    "            return custom_method\n",
    "        else:\n",
    "            return attr"
   ]
  },
  {
   "cell_type": "code",
   "execution_count": 1,
   "metadata": {},
   "outputs": [
    {
     "name": "stdout",
     "output_type": "stream",
     "text": [
      " * Serving Flask app 'DTPPC.implementation.flask.app'\n",
      " * Debug mode: off\n"
     ]
    },
    {
     "name": "stderr",
     "output_type": "stream",
     "text": [
      "WARNING: This is a development server. Do not use it in a production deployment. Use a production WSGI server instead.\n",
      " * Running on http://127.0.0.1:5000\n",
      "Press CTRL+C to quit\n"
     ]
    }
   ],
   "source": [
    "from DTPPC.implementation.flask.app import app\n",
    "app.run()"
   ]
  },
  {
   "cell_type": "code",
   "execution_count": 11,
   "metadata": {},
   "outputs": [],
   "source": [
    "import requests\n",
    "response = requests.get(\"http://127.0.0.1:5000/dt/new\")\n",
    "print(response.text)"
   ]
  },
  {
   "cell_type": "code",
   "execution_count": 4,
   "metadata": {},
   "outputs": [],
   "source": [
    "import requests\n",
    "from DTPPC.implementation.flask.front import DTInterface\n",
    "dt = DTInterface(\"127.0.0.1:5000\")\n",
    "dt.new()\n",
    "dt.clear()"
   ]
  }
 ],
 "metadata": {
  "kernelspec": {
   "display_name": "Python 3",
   "language": "python",
   "name": "python3"
  },
  "language_info": {
   "codemirror_mode": {
    "name": "ipython",
    "version": 3
   },
   "file_extension": ".py",
   "mimetype": "text/x-python",
   "name": "python",
   "nbconvert_exporter": "python",
   "pygments_lexer": "ipython3",
   "version": "3.9.13"
  }
 },
 "nbformat": 4,
 "nbformat_minor": 2
}
