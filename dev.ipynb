{
 "cells": [
  {
   "cell_type": "code",
   "execution_count": 6,
   "metadata": {},
   "outputs": [
    {
     "data": {
      "text/plain": [
       "{'id': '11e6e6c4-4141-4b91-be8d-cf1a013aeda2', 'inserted_on': datetime.datetime(2023, 11, 14, 10, 15, 57, tzinfo=datetime.timezone.utc), 'expires_on': datetime.datetime(2023, 11, 21, 10, 15, 57, tzinfo=datetime.timezone.utc), 'dequeue_count': None, 'content': '{\"Name\":{\"0\":\"Alice\",\"1\":\"Bob\",\"2\":\"Charlie\"},\"Age\":{\"0\":25,\"1\":30,\"2\":22}}', 'pop_receipt': 'AgAAAAMAAAAAAAAAaog1j+MW2gE=', 'next_visible_on': datetime.datetime(2023, 11, 14, 10, 15, 57, tzinfo=datetime.timezone.utc)}"
      ]
     },
     "execution_count": 6,
     "metadata": {},
     "output_type": "execute_result"
    }
   ],
   "source": [
    "import json\n",
    "import pandas as pd\n",
    "from azure.storage.queue import QueueServiceClient\n",
    "\n",
    "connection_string = 'DefaultEndpointsProtocol=https;AccountName=cloudformesdata;AccountKey=V3a7emh71+MSTdHykDKaZS9NPzwlp/orebGlYCNGNet5PgRgl7o94lafftuIO1JaOc+sNjFisdCt+AStR14uag==;EndpointSuffix=core.windows.net'\n",
    "queue_service_client = QueueServiceClient.from_connection_string(connection_string)\n",
    "\n",
    "# Specify the queue name\n",
    "queue_name = 'dt-input'\n",
    "\n",
    "queue_client = queue_service_client.get_queue_client(queue_name)\n",
    "\n",
    "data = pd.DataFrame({'Name': ['Alice', 'Bob', 'Charlie'], 'Age': [25, 30, 22]}).to_json()\n",
    "\n",
    "# Enqueue the JSON string as a message\n",
    "queue_client.send_message(data)\n",
    "\n"
   ]
  },
  {
   "cell_type": "code",
   "execution_count": 7,
   "metadata": {},
   "outputs": [
    {
     "name": "stdout",
     "output_type": "stream",
     "text": [
      "Received message: {\"Name\":{\"0\":\"Alice\",\"1\":\"Bob\",\"2\":\"Charlie\"},\"Age\":{\"0\":25,\"1\":30,\"2\":22}}\n",
      "Deleted message: {\"Name\":{\"0\":\"Alice\",\"1\":\"Bob\",\"2\":\"Charlie\"},\"Age\":{\"0\":25,\"1\":30,\"2\":22}}\n"
     ]
    }
   ],
   "source": [
    "from azure.storage.queue import QueueServiceClient\n",
    "\n",
    "# Your connection string\n",
    "connection_string = 'DefaultEndpointsProtocol=https;AccountName=cloudformesdata;AccountKey=V3a7emh71+MSTdHykDKaZS9NPzwlp/orebGlYCNGNet5PgRgl7o94lafftuIO1JaOc+sNjFisdCt+AStR14uag==;EndpointSuffix=core.windows.net'\n",
    "\n",
    "# Initialize the QueueServiceClient\n",
    "queue_service_client = QueueServiceClient.from_connection_string(connection_string)\n",
    "\n",
    "# Specify the queue name\n",
    "queue_name = 'dt-input'\n",
    "\n",
    "# Get a client to interact with the queue\n",
    "queue_client = queue_service_client.get_queue_client(queue_name)\n",
    "\n",
    "# Receive messages from the queue\n",
    "messages = queue_client.receive_messages()\n",
    "\n",
    "# Process the received messages\n",
    "for message in messages:\n",
    "    print(f\"Received message: {message.content}\")\n",
    "\n",
    "    # Process the message content as needed\n",
    "\n",
    "    # After processing, you should delete the message to remove it from the queue\n",
    "    queue_client.delete_message(message.id, message.pop_receipt)\n",
    "    print(f\"Deleted message: {message.content}\")\n"
   ]
  },
  {
   "cell_type": "code",
   "execution_count": 6,
   "metadata": {},
   "outputs": [
    {
     "name": "stdout",
     "output_type": "stream",
     "text": [
      "hello\n",
      "10\n"
     ]
    },
    {
     "name": "stderr",
     "output_type": "stream",
     "text": [
      "C:\\Users\\Lorenzo\\AppData\\Local\\Temp\\ipykernel_13156\\293831239.py:3: RuntimeWarning: coroutine 'sleep' was never awaited\n",
      "  asyncio.sleep(4, result=print('hello'))\n",
      "RuntimeWarning: Enable tracemalloc to get the object allocation traceback\n"
     ]
    }
   ],
   "source": [
    "import asyncio\n",
    "\n",
    "asyncio.sleep(4, result=print('hello'))\n",
    "print(10)"
   ]
  },
  {
   "cell_type": "code",
   "execution_count": 8,
   "metadata": {},
   "outputs": [],
   "source": [
    "from DTPPC.implementation.local.main import main"
   ]
  }
 ],
 "metadata": {
  "kernelspec": {
   "display_name": "Python 3",
   "language": "python",
   "name": "python3"
  },
  "language_info": {
   "codemirror_mode": {
    "name": "ipython",
    "version": 3
   },
   "file_extension": ".py",
   "mimetype": "text/x-python",
   "name": "python",
   "nbconvert_exporter": "python",
   "pygments_lexer": "ipython3",
   "version": "3.9.13"
  }
 },
 "nbformat": 4,
 "nbformat_minor": 2
}
