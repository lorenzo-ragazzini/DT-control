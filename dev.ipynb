{
 "cells": [
  {
   "cell_type": "code",
   "execution_count": 6,
   "metadata": {},
   "outputs": [
    {
     "data": {
      "text/plain": [
       "{'id': '11e6e6c4-4141-4b91-be8d-cf1a013aeda2', 'inserted_on': datetime.datetime(2023, 11, 14, 10, 15, 57, tzinfo=datetime.timezone.utc), 'expires_on': datetime.datetime(2023, 11, 21, 10, 15, 57, tzinfo=datetime.timezone.utc), 'dequeue_count': None, 'content': '{\"Name\":{\"0\":\"Alice\",\"1\":\"Bob\",\"2\":\"Charlie\"},\"Age\":{\"0\":25,\"1\":30,\"2\":22}}', 'pop_receipt': 'AgAAAAMAAAAAAAAAaog1j+MW2gE=', 'next_visible_on': datetime.datetime(2023, 11, 14, 10, 15, 57, tzinfo=datetime.timezone.utc)}"
      ]
     },
     "execution_count": 6,
     "metadata": {},
     "output_type": "execute_result"
    }
   ],
   "source": [
    "import json\n",
    "import pandas as pd\n",
    "from azure.storage.queue import QueueServiceClient\n",
    "\n",
    "connection_string = 'DefaultEndpointsProtocol=https;AccountName=cloudformesdata;AccountKey=V3a7emh71+MSTdHykDKaZS9NPzwlp/orebGlYCNGNet5PgRgl7o94lafftuIO1JaOc+sNjFisdCt+AStR14uag==;EndpointSuffix=core.windows.net'\n",
    "queue_service_client = QueueServiceClient.from_connection_string(connection_string)\n",
    "\n",
    "# Specify the queue name\n",
    "queue_name = 'dt-input'\n",
    "\n",
    "queue_client = queue_service_client.get_queue_client(queue_name)\n",
    "\n",
    "data = pd.DataFrame({'Name': ['Alice', 'Bob', 'Charlie'], 'Age': [25, 30, 22]}).to_json()\n",
    "\n",
    "# Enqueue the JSON string as a message\n",
    "queue_client.send_message(data)\n",
    "\n"
   ]
  },
  {
   "cell_type": "code",
   "execution_count": 7,
   "metadata": {},
   "outputs": [
    {
     "name": "stdout",
     "output_type": "stream",
     "text": [
      "Received message: {\"Name\":{\"0\":\"Alice\",\"1\":\"Bob\",\"2\":\"Charlie\"},\"Age\":{\"0\":25,\"1\":30,\"2\":22}}\n",
      "Deleted message: {\"Name\":{\"0\":\"Alice\",\"1\":\"Bob\",\"2\":\"Charlie\"},\"Age\":{\"0\":25,\"1\":30,\"2\":22}}\n"
     ]
    }
   ],
   "source": [
    "from azure.storage.queue import QueueServiceClient\n",
    "\n",
    "# Your connection string\n",
    "connection_string = 'DefaultEndpointsProtocol=https;AccountName=cloudformesdata;AccountKey=V3a7emh71+MSTdHykDKaZS9NPzwlp/orebGlYCNGNet5PgRgl7o94lafftuIO1JaOc+sNjFisdCt+AStR14uag==;EndpointSuffix=core.windows.net'\n",
    "\n",
    "# Initialize the QueueServiceClient\n",
    "queue_service_client = QueueServiceClient.from_connection_string(connection_string)\n",
    "\n",
    "# Specify the queue name\n",
    "queue_name = 'dt-input'\n",
    "\n",
    "# Get a client to interact with the queue\n",
    "queue_client = queue_service_client.get_queue_client(queue_name)\n",
    "\n",
    "# Receive messages from the queue\n",
    "messages = queue_client.receive_messages()\n",
    "\n",
    "# Process the received messages\n",
    "for message in messages:\n",
    "    print(f\"Received message: {message.content}\")\n",
    "\n",
    "    # Process the message content as needed\n",
    "\n",
    "    # After processing, you should delete the message to remove it from the queue\n",
    "    queue_client.delete_message(message.id, message.pop_receipt)\n",
    "    print(f\"Deleted message: {message.content}\")\n"
   ]
  },
  {
   "cell_type": "code",
   "execution_count": 6,
   "metadata": {},
   "outputs": [
    {
     "name": "stdout",
     "output_type": "stream",
     "text": [
      "hello\n",
      "10\n"
     ]
    },
    {
     "name": "stderr",
     "output_type": "stream",
     "text": [
      "C:\\Users\\Lorenzo\\AppData\\Local\\Temp\\ipykernel_13156\\293831239.py:3: RuntimeWarning: coroutine 'sleep' was never awaited\n",
      "  asyncio.sleep(4, result=print('hello'))\n",
      "RuntimeWarning: Enable tracemalloc to get the object allocation traceback\n"
     ]
    }
   ],
   "source": [
    "import asyncio\n",
    "\n",
    "asyncio.sleep(4, result=print('hello'))\n",
    "print(10)"
   ]
  },
  {
   "cell_type": "code",
   "execution_count": 5,
   "metadata": {},
   "outputs": [
    {
     "name": "stdout",
     "output_type": "stream",
     "text": [
      "\n",
      "+++ Launching Plant Simulation (version=16.0, license=Student, visibility=True, trust_models=True) +++\n",
      "\n",
      "Loading model \"C:/Users/Lorenzo/Dropbox (DIG)/Ricerca/GEORGIA TECH/DTbasedcontrol/LineaPoli_corretta_revLR (5).spp\"...\n",
      "\n"
     ]
    }
   ],
   "source": [
    "from plantsim.plantsim import Plantsim\n",
    "from plantsim.table import Table\n",
    "import json\n",
    "with open('config.json') as f:\n",
    "    paths = json.load(f)\n",
    "    model_path = paths['model_path']\n",
    "    output_path = paths['output_path']\n",
    "    input_path = paths['input_path']\n",
    "    output_filenames = [\"FinishTimes.xlsx\",\"TotEnergyConsumption.xlsx\"]\n",
    "\n",
    "\n",
    "plantsim = Plantsim(version = '16.0', license_type='Student', trust_models=True)\n",
    "plantsim.load_model(model_path)\n",
    "plantsim.set_path_context('.Models.Model')\n",
    "plantsim.set_event_controller()\n",
    "\n",
    "# plantsim.execute_simtalk('modelPath:=')\n"
   ]
  },
  {
   "cell_type": "code",
   "execution_count": 16,
   "metadata": {},
   "outputs": [],
   "source": [
    "command = 'modelPath:=\"'+model_path+'\"'\n",
    "command\n",
    "plantsim.execute_simtalk(command)"
   ]
  },
  {
   "cell_type": "code",
   "execution_count": 2,
   "metadata": {},
   "outputs": [
    {
     "ename": "Error",
     "evalue": "[('C:/Users/Lorenzo/Desktop/GSOM_sim/temp\\\\MWJEuoNPUaNZzhac\\\\temp\\\\MWJEuoNPUaNZzhac\\\\temp\\\\MWJEuoNPUaNZzhac\\\\temp\\\\MWJEuoNPUaNZzhac\\\\temp\\\\MWJEuoNPUaNZzhac\\\\temp\\\\MWJEuoNPUaNZzhac\\\\temp\\\\MWJEuoNPUaNZzhac\\\\temp\\\\MWJEuoNPUaNZzhac\\\\temp\\\\MWJEuoNPUaNZzhac', 'C:/Users/Lorenzo/Desktop/GSOM_sim/temp/MWJEuoNPUaNZzhac\\\\temp\\\\MWJEuoNPUaNZzhac\\\\temp\\\\MWJEuoNPUaNZzhac\\\\temp\\\\MWJEuoNPUaNZzhac\\\\temp\\\\MWJEuoNPUaNZzhac\\\\temp\\\\MWJEuoNPUaNZzhac\\\\temp\\\\MWJEuoNPUaNZzhac\\\\temp\\\\MWJEuoNPUaNZzhac\\\\temp\\\\MWJEuoNPUaNZzhac\\\\temp\\\\MWJEuoNPUaNZzhac', \"[WinError 206] Nome del file o estensione troppo lunga: 'C:/Users/Lorenzo/Desktop/GSOM_sim/temp/MWJEuoNPUaNZzhac\\\\\\\\temp\\\\\\\\MWJEuoNPUaNZzhac\\\\\\\\temp\\\\\\\\MWJEuoNPUaNZzhac\\\\\\\\temp\\\\\\\\MWJEuoNPUaNZzhac\\\\\\\\temp\\\\\\\\MWJEuoNPUaNZzhac\\\\\\\\temp\\\\\\\\MWJEuoNPUaNZzhac\\\\\\\\temp\\\\\\\\MWJEuoNPUaNZzhac\\\\\\\\temp\\\\\\\\MWJEuoNPUaNZzhac\\\\\\\\temp\\\\\\\\MWJEuoNPUaNZzhac\\\\\\\\temp\\\\\\\\MWJEuoNPUaNZzhac'\")]",
     "output_type": "error",
     "traceback": [
      "\u001b[1;31m---------------------------------------------------------------------------\u001b[0m",
      "\u001b[1;31mError\u001b[0m                                     Traceback (most recent call last)",
      "\u001b[1;32mc:\\Users\\Lorenzo\\GitHub\\DTPPC\\dev.ipynb Cell 6\u001b[0m line \u001b[0;36m2\n\u001b[0;32m     <a href='vscode-notebook-cell:/c%3A/Users/Lorenzo/GitHub/DTPPC/dev.ipynb#W5sZmlsZQ%3D%3D?line=16'>17</a>\u001b[0m     shutil\u001b[39m.\u001b[39mcopytree(source_folder, destination_folder)\n\u001b[0;32m     <a href='vscode-notebook-cell:/c%3A/Users/Lorenzo/GitHub/DTPPC/dev.ipynb#W5sZmlsZQ%3D%3D?line=17'>18</a>\u001b[0m     \u001b[39mreturn\u001b[39;00m destination_folder, string\n\u001b[1;32m---> <a href='vscode-notebook-cell:/c%3A/Users/Lorenzo/GitHub/DTPPC/dev.ipynb#W5sZmlsZQ%3D%3D?line=19'>20</a>\u001b[0m create_temp(\u001b[39m\"\u001b[39;49m\u001b[39mC:/Users/Lorenzo/Desktop/GSOM_sim\u001b[39;49m\u001b[39m\"\u001b[39;49m)\n",
      "\u001b[1;32mc:\\Users\\Lorenzo\\GitHub\\DTPPC\\dev.ipynb Cell 6\u001b[0m line \u001b[0;36m1\n\u001b[0;32m     <a href='vscode-notebook-cell:/c%3A/Users/Lorenzo/GitHub/DTPPC/dev.ipynb#W5sZmlsZQ%3D%3D?line=14'>15</a>\u001b[0m     \u001b[39mif\u001b[39;00m \u001b[39mnot\u001b[39;00m os\u001b[39m.\u001b[39mpath\u001b[39m.\u001b[39mexists(destination_folder) \u001b[39mand\u001b[39;00m \u001b[39mnot\u001b[39;00m os\u001b[39m.\u001b[39mpath\u001b[39m.\u001b[39misdir(destination_folder):\n\u001b[0;32m     <a href='vscode-notebook-cell:/c%3A/Users/Lorenzo/GitHub/DTPPC/dev.ipynb#W5sZmlsZQ%3D%3D?line=15'>16</a>\u001b[0m         \u001b[39mbreak\u001b[39;00m\n\u001b[1;32m---> <a href='vscode-notebook-cell:/c%3A/Users/Lorenzo/GitHub/DTPPC/dev.ipynb#W5sZmlsZQ%3D%3D?line=16'>17</a>\u001b[0m shutil\u001b[39m.\u001b[39;49mcopytree(source_folder, destination_folder)\n\u001b[0;32m     <a href='vscode-notebook-cell:/c%3A/Users/Lorenzo/GitHub/DTPPC/dev.ipynb#W5sZmlsZQ%3D%3D?line=17'>18</a>\u001b[0m \u001b[39mreturn\u001b[39;00m destination_folder, string\n",
      "File \u001b[1;32mC:\\Program Files\\WindowsApps\\PythonSoftwareFoundation.Python.3.9_3.9.3568.0_x64__qbz5n2kfra8p0\\lib\\shutil.py:568\u001b[0m, in \u001b[0;36mcopytree\u001b[1;34m(src, dst, symlinks, ignore, copy_function, ignore_dangling_symlinks, dirs_exist_ok)\u001b[0m\n\u001b[0;32m    566\u001b[0m \u001b[39mwith\u001b[39;00m os\u001b[39m.\u001b[39mscandir(src) \u001b[39mas\u001b[39;00m itr:\n\u001b[0;32m    567\u001b[0m     entries \u001b[39m=\u001b[39m \u001b[39mlist\u001b[39m(itr)\n\u001b[1;32m--> 568\u001b[0m \u001b[39mreturn\u001b[39;00m _copytree(entries\u001b[39m=\u001b[39;49mentries, src\u001b[39m=\u001b[39;49msrc, dst\u001b[39m=\u001b[39;49mdst, symlinks\u001b[39m=\u001b[39;49msymlinks,\n\u001b[0;32m    569\u001b[0m                  ignore\u001b[39m=\u001b[39;49mignore, copy_function\u001b[39m=\u001b[39;49mcopy_function,\n\u001b[0;32m    570\u001b[0m                  ignore_dangling_symlinks\u001b[39m=\u001b[39;49mignore_dangling_symlinks,\n\u001b[0;32m    571\u001b[0m                  dirs_exist_ok\u001b[39m=\u001b[39;49mdirs_exist_ok)\n",
      "File \u001b[1;32mC:\\Program Files\\WindowsApps\\PythonSoftwareFoundation.Python.3.9_3.9.3568.0_x64__qbz5n2kfra8p0\\lib\\shutil.py:522\u001b[0m, in \u001b[0;36m_copytree\u001b[1;34m(entries, src, dst, symlinks, ignore, copy_function, ignore_dangling_symlinks, dirs_exist_ok)\u001b[0m\n\u001b[0;32m    520\u001b[0m         errors\u001b[39m.\u001b[39mappend((src, dst, \u001b[39mstr\u001b[39m(why)))\n\u001b[0;32m    521\u001b[0m \u001b[39mif\u001b[39;00m errors:\n\u001b[1;32m--> 522\u001b[0m     \u001b[39mraise\u001b[39;00m Error(errors)\n\u001b[0;32m    523\u001b[0m \u001b[39mreturn\u001b[39;00m dst\n",
      "\u001b[1;31mError\u001b[0m: [('C:/Users/Lorenzo/Desktop/GSOM_sim/temp\\\\MWJEuoNPUaNZzhac\\\\temp\\\\MWJEuoNPUaNZzhac\\\\temp\\\\MWJEuoNPUaNZzhac\\\\temp\\\\MWJEuoNPUaNZzhac\\\\temp\\\\MWJEuoNPUaNZzhac\\\\temp\\\\MWJEuoNPUaNZzhac\\\\temp\\\\MWJEuoNPUaNZzhac\\\\temp\\\\MWJEuoNPUaNZzhac\\\\temp\\\\MWJEuoNPUaNZzhac', 'C:/Users/Lorenzo/Desktop/GSOM_sim/temp/MWJEuoNPUaNZzhac\\\\temp\\\\MWJEuoNPUaNZzhac\\\\temp\\\\MWJEuoNPUaNZzhac\\\\temp\\\\MWJEuoNPUaNZzhac\\\\temp\\\\MWJEuoNPUaNZzhac\\\\temp\\\\MWJEuoNPUaNZzhac\\\\temp\\\\MWJEuoNPUaNZzhac\\\\temp\\\\MWJEuoNPUaNZzhac\\\\temp\\\\MWJEuoNPUaNZzhac\\\\temp\\\\MWJEuoNPUaNZzhac', \"[WinError 206] Nome del file o estensione troppo lunga: 'C:/Users/Lorenzo/Desktop/GSOM_sim/temp/MWJEuoNPUaNZzhac\\\\\\\\temp\\\\\\\\MWJEuoNPUaNZzhac\\\\\\\\temp\\\\\\\\MWJEuoNPUaNZzhac\\\\\\\\temp\\\\\\\\MWJEuoNPUaNZzhac\\\\\\\\temp\\\\\\\\MWJEuoNPUaNZzhac\\\\\\\\temp\\\\\\\\MWJEuoNPUaNZzhac\\\\\\\\temp\\\\\\\\MWJEuoNPUaNZzhac\\\\\\\\temp\\\\\\\\MWJEuoNPUaNZzhac\\\\\\\\temp\\\\\\\\MWJEuoNPUaNZzhac\\\\\\\\temp\\\\\\\\MWJEuoNPUaNZzhac'\")]"
     ]
    }
   ],
   "source": [
    "import random\n",
    "from string import ascii_letters as letters\n",
    "import shutil\n",
    "import os\n",
    "\n",
    "def folder_exists(folder_path):\n",
    "    return os.path.exists(folder_path) and os.path.isdir(folder_path)\n",
    "\n",
    "def create_temp(source_folder):\n",
    "    if source_folder[-1] != \"/\":\n",
    "        source_folder += \"/\"\n",
    "    while True:\n",
    "        string = ''.join(random.choice(letters) for _ in range(16))\n",
    "        destination_folder = os.path.dirname(source_folder)+'temp/'+ string\n",
    "        if not os.path.exists(destination_folder) and not os.path.isdir(destination_folder):\n",
    "            break\n",
    "    shutil.copytree(source_folder, destination_folder)\n",
    "    return destination_folder, string\n",
    "\n",
    "create_temp(\"C:/Users/Lorenzo/Desktop/GSOM_sim\")"
   ]
  }
 ],
 "metadata": {
  "kernelspec": {
   "display_name": "Python 3",
   "language": "python",
   "name": "python3"
  },
  "language_info": {
   "codemirror_mode": {
    "name": "ipython",
    "version": 3
   },
   "file_extension": ".py",
   "mimetype": "text/x-python",
   "name": "python",
   "nbconvert_exporter": "python",
   "pygments_lexer": "ipython3",
   "version": "3.9.13"
  }
 },
 "nbformat": 4,
 "nbformat_minor": 2
}
