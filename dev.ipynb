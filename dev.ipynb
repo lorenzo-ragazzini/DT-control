{
 "cells": [
  {
   "cell_type": "code",
   "execution_count": 6,
   "metadata": {},
   "outputs": [
    {
     "data": {
      "text/plain": [
       "{'id': '11e6e6c4-4141-4b91-be8d-cf1a013aeda2', 'inserted_on': datetime.datetime(2023, 11, 14, 10, 15, 57, tzinfo=datetime.timezone.utc), 'expires_on': datetime.datetime(2023, 11, 21, 10, 15, 57, tzinfo=datetime.timezone.utc), 'dequeue_count': None, 'content': '{\"Name\":{\"0\":\"Alice\",\"1\":\"Bob\",\"2\":\"Charlie\"},\"Age\":{\"0\":25,\"1\":30,\"2\":22}}', 'pop_receipt': 'AgAAAAMAAAAAAAAAaog1j+MW2gE=', 'next_visible_on': datetime.datetime(2023, 11, 14, 10, 15, 57, tzinfo=datetime.timezone.utc)}"
      ]
     },
     "execution_count": 6,
     "metadata": {},
     "output_type": "execute_result"
    }
   ],
   "source": [
    "import json\n",
    "import pandas as pd\n",
    "from azure.storage.queue import QueueServiceClient\n",
    "\n",
    "connection_string = 'DefaultEndpointsProtocol=https;AccountName=cloudformesdata;AccountKey=V3a7emh71+MSTdHykDKaZS9NPzwlp/orebGlYCNGNet5PgRgl7o94lafftuIO1JaOc+sNjFisdCt+AStR14uag==;EndpointSuffix=core.windows.net'\n",
    "queue_service_client = QueueServiceClient.from_connection_string(connection_string)\n",
    "\n",
    "# Specify the queue name\n",
    "queue_name = 'dt-input'\n",
    "\n",
    "queue_client = queue_service_client.get_queue_client(queue_name)\n",
    "\n",
    "data = pd.DataFrame({'Name': ['Alice', 'Bob', 'Charlie'], 'Age': [25, 30, 22]}).to_json()\n",
    "\n",
    "# Enqueue the JSON string as a message\n",
    "queue_client.send_message(data)\n",
    "\n"
   ]
  },
  {
   "cell_type": "code",
   "execution_count": 7,
   "metadata": {},
   "outputs": [
    {
     "name": "stdout",
     "output_type": "stream",
     "text": [
      "Received message: {\"Name\":{\"0\":\"Alice\",\"1\":\"Bob\",\"2\":\"Charlie\"},\"Age\":{\"0\":25,\"1\":30,\"2\":22}}\n",
      "Deleted message: {\"Name\":{\"0\":\"Alice\",\"1\":\"Bob\",\"2\":\"Charlie\"},\"Age\":{\"0\":25,\"1\":30,\"2\":22}}\n"
     ]
    }
   ],
   "source": [
    "from azure.storage.queue import QueueServiceClient\n",
    "\n",
    "# Your connection string\n",
    "connection_string = 'DefaultEndpointsProtocol=https;AccountName=cloudformesdata;AccountKey=V3a7emh71+MSTdHykDKaZS9NPzwlp/orebGlYCNGNet5PgRgl7o94lafftuIO1JaOc+sNjFisdCt+AStR14uag==;EndpointSuffix=core.windows.net'\n",
    "\n",
    "# Initialize the QueueServiceClient\n",
    "queue_service_client = QueueServiceClient.from_connection_string(connection_string)\n",
    "\n",
    "# Specify the queue name\n",
    "queue_name = 'dt-input'\n",
    "\n",
    "# Get a client to interact with the queue\n",
    "queue_client = queue_service_client.get_queue_client(queue_name)\n",
    "\n",
    "# Receive messages from the queue\n",
    "messages = queue_client.receive_messages()\n",
    "\n",
    "# Process the received messages\n",
    "for message in messages:\n",
    "    print(f\"Received message: {message.content}\")\n",
    "\n",
    "    # Process the message content as needed\n",
    "\n",
    "    # After processing, you should delete the message to remove it from the queue\n",
    "    queue_client.delete_message(message.id, message.pop_receipt)\n",
    "    print(f\"Deleted message: {message.content}\")\n"
   ]
  },
  {
   "cell_type": "code",
   "execution_count": 6,
   "metadata": {},
   "outputs": [
    {
     "name": "stdout",
     "output_type": "stream",
     "text": [
      "hello\n",
      "10\n"
     ]
    },
    {
     "name": "stderr",
     "output_type": "stream",
     "text": [
      "C:\\Users\\Lorenzo\\AppData\\Local\\Temp\\ipykernel_13156\\293831239.py:3: RuntimeWarning: coroutine 'sleep' was never awaited\n",
      "  asyncio.sleep(4, result=print('hello'))\n",
      "RuntimeWarning: Enable tracemalloc to get the object allocation traceback\n"
     ]
    }
   ],
   "source": [
    "import asyncio\n",
    "\n",
    "asyncio.sleep(4, result=print('hello'))\n",
    "print(10)"
   ]
  },
  {
   "cell_type": "code",
   "execution_count": 11,
   "metadata": {},
   "outputs": [
    {
     "ename": "RuntimeError",
     "evalue": "asyncio.run() cannot be called from a running event loop",
     "output_type": "error",
     "traceback": [
      "\u001b[1;31m---------------------------------------------------------------------------\u001b[0m",
      "\u001b[1;31mRuntimeError\u001b[0m                              Traceback (most recent call last)",
      "\u001b[1;32mc:\\Users\\Lorenzo\\GitHub\\DTPPC\\dev.ipynb Cell 4\u001b[0m line \u001b[0;36m2\n\u001b[0;32m      <a href='vscode-notebook-cell:/c%3A/Users/Lorenzo/GitHub/DTPPC/dev.ipynb#W3sZmlsZQ%3D%3D?line=0'>1</a>\u001b[0m \u001b[39mimport\u001b[39;00m \u001b[39mDTPPC\u001b[39;00m\u001b[39m.\u001b[39;00m\u001b[39mimplementation\u001b[39;00m\u001b[39m.\u001b[39;00m\u001b[39mcontroller\u001b[39;00m\u001b[39m.\u001b[39;00m\u001b[39mcontroller\u001b[39;00m \u001b[39mas\u001b[39;00m \u001b[39mc\u001b[39;00m\n\u001b[1;32m----> <a href='vscode-notebook-cell:/c%3A/Users/Lorenzo/GitHub/DTPPC/dev.ipynb#W3sZmlsZQ%3D%3D?line=1'>2</a>\u001b[0m c\u001b[39m.\u001b[39;49mmain()\n",
      "File \u001b[1;32mc:\\Users\\Lorenzo\\GitHub\\DTPPC\\DTPPC\\implementation\\controller\\controller.py:40\u001b[0m, in \u001b[0;36mmain\u001b[1;34m()\u001b[0m\n\u001b[0;32m     38\u001b[0m e \u001b[39m=\u001b[39m EventListenerMsg(\u001b[39m'\u001b[39m\u001b[39mevents\u001b[39m\u001b[39m'\u001b[39m,\u001b[39m1\u001b[39m)\n\u001b[0;32m     39\u001b[0m e\u001b[39m.\u001b[39mctrl \u001b[39m=\u001b[39m ctrl\n\u001b[1;32m---> 40\u001b[0m asyncio\u001b[39m.\u001b[39;49mrun(e\u001b[39m.\u001b[39;49masync_listen(),debug\u001b[39m=\u001b[39;49m\u001b[39mTrue\u001b[39;49;00m)\n",
      "File \u001b[1;32mC:\\Program Files\\WindowsApps\\PythonSoftwareFoundation.Python.3.9_3.9.3568.0_x64__qbz5n2kfra8p0\\lib\\asyncio\\runners.py:33\u001b[0m, in \u001b[0;36mrun\u001b[1;34m(main, debug)\u001b[0m\n\u001b[0;32m      9\u001b[0m \u001b[39m\u001b[39m\u001b[39m\"\"\"Execute the coroutine and return the result.\u001b[39;00m\n\u001b[0;32m     10\u001b[0m \n\u001b[0;32m     11\u001b[0m \u001b[39mThis function runs the passed coroutine, taking care of\u001b[39;00m\n\u001b[1;32m   (...)\u001b[0m\n\u001b[0;32m     30\u001b[0m \u001b[39m    asyncio.run(main())\u001b[39;00m\n\u001b[0;32m     31\u001b[0m \u001b[39m\"\"\"\u001b[39;00m\n\u001b[0;32m     32\u001b[0m \u001b[39mif\u001b[39;00m events\u001b[39m.\u001b[39m_get_running_loop() \u001b[39mis\u001b[39;00m \u001b[39mnot\u001b[39;00m \u001b[39mNone\u001b[39;00m:\n\u001b[1;32m---> 33\u001b[0m     \u001b[39mraise\u001b[39;00m \u001b[39mRuntimeError\u001b[39;00m(\n\u001b[0;32m     34\u001b[0m         \u001b[39m\"\u001b[39m\u001b[39masyncio.run() cannot be called from a running event loop\u001b[39m\u001b[39m\"\u001b[39m)\n\u001b[0;32m     36\u001b[0m \u001b[39mif\u001b[39;00m \u001b[39mnot\u001b[39;00m coroutines\u001b[39m.\u001b[39miscoroutine(main):\n\u001b[0;32m     37\u001b[0m     \u001b[39mraise\u001b[39;00m \u001b[39mValueError\u001b[39;00m(\u001b[39m\"\u001b[39m\u001b[39ma coroutine was expected, got \u001b[39m\u001b[39m{!r}\u001b[39;00m\u001b[39m\"\u001b[39m\u001b[39m.\u001b[39mformat(main))\n",
      "\u001b[1;31mRuntimeError\u001b[0m: asyncio.run() cannot be called from a running event loop"
     ]
    }
   ],
   "source": [
    "import DTPPC.implementation.controller.controller as c\n",
    "c.main()"
   ]
  }
 ],
 "metadata": {
  "kernelspec": {
   "display_name": "Python 3",
   "language": "python",
   "name": "python3"
  },
  "language_info": {
   "codemirror_mode": {
    "name": "ipython",
    "version": 3
   },
   "file_extension": ".py",
   "mimetype": "text/x-python",
   "name": "python",
   "nbconvert_exporter": "python",
   "pygments_lexer": "ipython3",
   "version": "3.9.13"
  }
 },
 "nbformat": 4,
 "nbformat_minor": 2
}
