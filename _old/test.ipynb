{
 "cells": [
  {
   "cell_type": "code",
   "execution_count": 2,
   "metadata": {},
   "outputs": [],
   "source": [
    "from controller import *\n",
    "import pandas as pd\n",
    "from digitaltwin import *"
   ]
  },
  {
   "cell_type": "code",
   "execution_count": 3,
   "metadata": {},
   "outputs": [
    {
     "data": {
      "text/plain": [
       "[]"
      ]
     },
     "execution_count": 3,
     "metadata": {},
     "output_type": "execute_result"
    }
   ],
   "source": [
    "c = OperationalController()\n",
    "cp = ControlPolicy()\n",
    "cp.setControlParamters('a',1)\n",
    "cp.inputParameters"
   ]
  },
  {
   "cell_type": "code",
   "execution_count": 4,
   "metadata": {},
   "outputs": [
    {
     "name": "stdout",
     "output_type": "stream",
     "text": [
      "    ONo  OPos         PlanedStart           PlanedEnd Start End  WPNo  StepNo  \\\n",
      "1  6521     2 2023-04-14 14:21:00 2023-04-14 14:21:51   NaT NaT  1212      10   \n",
      "2  6522     1 2023-04-14 14:21:20 2023-04-14 14:21:29   NaT NaT  1223      10   \n",
      "\n",
      "   MainOPos  State  ResourceID  OpNo  WONo   PNo  subOrderBlocked  Error  \\\n",
      "1         0      0           2   200     0  1212            False  False   \n",
      "2         0      0           2   200     0  1223            False  False   \n",
      "\n",
      "   OrderPNo  \n",
      "1      1212  \n",
      "2      1223  \n"
     ]
    }
   ],
   "source": [
    "df_orderpos = pd.read_excel(r\"..\\..\\DB\\MESb.xlsx\", sheet_name=\"tblOrderPos\")\n",
    "df_orderpos=df_orderpos[df_orderpos.Start.isna()]\n",
    "print(df_orderpos)\n"
   ]
  },
  {
   "cell_type": "code",
   "execution_count": 1,
   "metadata": {},
   "outputs": [
    {
     "ename": "NameError",
     "evalue": "name 'DigitalTwin' is not defined",
     "output_type": "error",
     "traceback": [
      "\u001b[1;31m---------------------------------------------------------------------------\u001b[0m",
      "\u001b[1;31mNameError\u001b[0m                                 Traceback (most recent call last)",
      "\u001b[1;32mc:\\Users\\Lorenzo\\Dropbox (DIG)\\Tesisti\\Federico Motta\\Casi Implementativi\\FUNCTIONS\\NEW_FUNCTIONS\\test.ipynb Cell 4\u001b[0m line \u001b[0;36m1\n\u001b[1;32m----> <a href='vscode-notebook-cell:/c%3A/Users/Lorenzo/Dropbox%20%28DIG%29/Tesisti/Federico%20Motta/Casi%20Implementativi/FUNCTIONS/NEW_FUNCTIONS/test.ipynb#W3sZmlsZQ%3D%3D?line=0'>1</a>\u001b[0m dt\u001b[39m=\u001b[39mDigitalTwin()\n",
      "\u001b[1;31mNameError\u001b[0m: name 'DigitalTwin' is not defined"
     ]
    }
   ],
   "source": [
    "dt=DigitalTwin()"
   ]
  },
  {
   "cell_type": "code",
   "execution_count": 1,
   "metadata": {},
   "outputs": [
    {
     "ename": "NameError",
     "evalue": "name 'pd' is not defined",
     "output_type": "error",
     "traceback": [
      "\u001b[1;31m---------------------------------------------------------------------------\u001b[0m",
      "\u001b[1;31mNameError\u001b[0m                                 Traceback (most recent call last)",
      "\u001b[1;32mc:\\Users\\Lorenzo\\Dropbox (DIG)\\Tesisti\\Federico Motta\\Casi Implementativi\\FUNCTIONS\\NEW_FUNCTIONS\\test.ipynb Cell 5\u001b[0m line \u001b[0;36m2\n\u001b[0;32m      <a href='vscode-notebook-cell:/c%3A/Users/Lorenzo/Dropbox%20%28DIG%29/Tesisti/Federico%20Motta/Casi%20Implementativi/FUNCTIONS/NEW_FUNCTIONS/test.ipynb#W4sZmlsZQ%3D%3D?line=0'>1</a>\u001b[0m input_path\u001b[39m=\u001b[39m\u001b[39m\"\u001b[39m\u001b[39mC:/Users/Lorenzo/Dropbox (DIG)/Tesisti/Federico Motta/Casi Implementativi/DB\u001b[39m\u001b[39m\"\u001b[39m\n\u001b[1;32m----> <a href='vscode-notebook-cell:/c%3A/Users/Lorenzo/Dropbox%20%28DIG%29/Tesisti/Federico%20Motta/Casi%20Implementativi/FUNCTIONS/NEW_FUNCTIONS/test.ipynb#W4sZmlsZQ%3D%3D?line=1'>2</a>\u001b[0m pd\u001b[39m.\u001b[39mread_excel(\u001b[39mfr\u001b[39m\u001b[39m\"\u001b[39m\u001b[39m{\u001b[39;00minput_path\u001b[39m}\u001b[39;00m\u001b[39m\\\u001b[39m\u001b[39mMESb.xlsx\u001b[39m\u001b[39m\"\u001b[39m, sheet_name\u001b[39m=\u001b[39m\u001b[39m\"\u001b[39m\u001b[39mtblOrderPos\u001b[39m\u001b[39m\"\u001b[39m)\n",
      "\u001b[1;31mNameError\u001b[0m: name 'pd' is not defined"
     ]
    }
   ],
   "source": [
    "input_path=\"C:/Users/Lorenzo/Dropbox (DIG)/Tesisti/Federico Motta/Casi Implementativi/DB\"\n",
    "pd.read_excel(fr\"{input_path}\\MESb.xlsx\", sheet_name=\"tblOrderPos\")"
   ]
  },
  {
   "cell_type": "code",
   "execution_count": 1,
   "metadata": {},
   "outputs": [
    {
     "name": "stdout",
     "output_type": "stream",
     "text": [
      "[<__main__.ExecuteSchedule object at 0x000001E0ED0714C0>]"
     ]
    },
    {
     "name": "stdout",
     "output_type": "stream",
     "text": [
      "\n"
     ]
    },
    {
     "ename": "AttributeError",
     "evalue": "type object 'object' has no attribute '__getattr__'",
     "output_type": "error",
     "traceback": [
      "\u001b[1;31m---------------------------------------------------------------------------\u001b[0m",
      "\u001b[1;31mAttributeError\u001b[0m                            Traceback (most recent call last)",
      "\u001b[1;32mc:\\Users\\Lorenzo\\Dropbox (DIG)\\Tesisti\\Federico Motta\\Casi Implementativi\\FUNCTIONS\\NEW_FUNCTIONS\\test.ipynb Cell 6\u001b[0m line \u001b[0;36m1\n\u001b[0;32m     <a href='vscode-notebook-cell:/c%3A/Users/Lorenzo/Dropbox%20%28DIG%29/Tesisti/Federico%20Motta/Casi%20Implementativi/FUNCTIONS/NEW_FUNCTIONS/test.ipynb#W5sZmlsZQ%3D%3D?line=12'>13</a>\u001b[0m \u001b[39mif\u001b[39;00m \u001b[39mnot\u001b[39;00m value:\n\u001b[1;32m---> <a href='vscode-notebook-cell:/c%3A/Users/Lorenzo/Dropbox%20%28DIG%29/Tesisti/Federico%20Motta/Casi%20Implementativi/FUNCTIONS/NEW_FUNCTIONS/test.ipynb#W5sZmlsZQ%3D%3D?line=13'>14</a>\u001b[0m     \u001b[39mraise\u001b[39;00m \u001b[39mAttributeError\u001b[39;00m\n\u001b[0;32m     <a href='vscode-notebook-cell:/c%3A/Users/Lorenzo/Dropbox%20%28DIG%29/Tesisti/Federico%20Motta/Casi%20Implementativi/FUNCTIONS/NEW_FUNCTIONS/test.ipynb#W5sZmlsZQ%3D%3D?line=14'>15</a>\u001b[0m \u001b[39melse\u001b[39;00m:\n",
      "\u001b[1;31mAttributeError\u001b[0m: ",
      "\nDuring handling of the above exception, another exception occurred:\n",
      "\u001b[1;31mAttributeError\u001b[0m                            Traceback (most recent call last)",
      "\u001b[1;32mc:\\Users\\Lorenzo\\Dropbox (DIG)\\Tesisti\\Federico Motta\\Casi Implementativi\\FUNCTIONS\\NEW_FUNCTIONS\\test.ipynb Cell 6\u001b[0m line \u001b[0;36m3\n\u001b[0;32m     <a href='vscode-notebook-cell:/c%3A/Users/Lorenzo/Dropbox%20%28DIG%29/Tesisti/Federico%20Motta/Casi%20Implementativi/FUNCTIONS/NEW_FUNCTIONS/test.ipynb#W5sZmlsZQ%3D%3D?line=30'>31</a>\u001b[0m C\u001b[39m.\u001b[39mmap\u001b[39m.\u001b[39mrules \u001b[39m=\u001b[39m [Rule1()]\n\u001b[0;32m     <a href='vscode-notebook-cell:/c%3A/Users/Lorenzo/Dropbox%20%28DIG%29/Tesisti/Federico%20Motta/Casi%20Implementativi/FUNCTIONS/NEW_FUNCTIONS/test.ipynb#W5sZmlsZQ%3D%3D?line=32'>33</a>\u001b[0m \u001b[39mprint\u001b[39m(C\u001b[39m.\u001b[39mExecuteSchedule)\n\u001b[1;32m---> <a href='vscode-notebook-cell:/c%3A/Users/Lorenzo/Dropbox%20%28DIG%29/Tesisti/Federico%20Motta/Casi%20Implementativi/FUNCTIONS/NEW_FUNCTIONS/test.ipynb#W5sZmlsZQ%3D%3D?line=33'>34</a>\u001b[0m C\u001b[39m.\u001b[39;49ma\n",
      "\u001b[1;32mc:\\Users\\Lorenzo\\Dropbox (DIG)\\Tesisti\\Federico Motta\\Casi Implementativi\\FUNCTIONS\\NEW_FUNCTIONS\\test.ipynb Cell 6\u001b[0m line \u001b[0;36m1\n\u001b[0;32m     <a href='vscode-notebook-cell:/c%3A/Users/Lorenzo/Dropbox%20%28DIG%29/Tesisti/Federico%20Motta/Casi%20Implementativi/FUNCTIONS/NEW_FUNCTIONS/test.ipynb#W5sZmlsZQ%3D%3D?line=16'>17</a>\u001b[0m     \u001b[39mreturn\u001b[39;00m [p \u001b[39mfor\u001b[39;00m p \u001b[39min\u001b[39;00m \u001b[39mself\u001b[39m\u001b[39m.\u001b[39mpolicies\u001b[39m+\u001b[39m\u001b[39mself\u001b[39m\u001b[39m.\u001b[39mmodules \u001b[39mif\u001b[39;00m p\u001b[39m.\u001b[39m\u001b[39m__class__\u001b[39m\u001b[39m.\u001b[39m\u001b[39m__name__\u001b[39m \u001b[39mis\u001b[39;00m attr]\n\u001b[0;32m     <a href='vscode-notebook-cell:/c%3A/Users/Lorenzo/Dropbox%20%28DIG%29/Tesisti/Federico%20Motta/Casi%20Implementativi/FUNCTIONS/NEW_FUNCTIONS/test.ipynb#W5sZmlsZQ%3D%3D?line=17'>18</a>\u001b[0m \u001b[39mexcept\u001b[39;00m:\n\u001b[1;32m---> <a href='vscode-notebook-cell:/c%3A/Users/Lorenzo/Dropbox%20%28DIG%29/Tesisti/Federico%20Motta/Casi%20Implementativi/FUNCTIONS/NEW_FUNCTIONS/test.ipynb#W5sZmlsZQ%3D%3D?line=18'>19</a>\u001b[0m     \u001b[39mobject\u001b[39;49m\u001b[39m.\u001b[39;49m\u001b[39m__getattr__\u001b[39;49m(\u001b[39mself\u001b[39m,attr)\n",
      "\u001b[1;31mAttributeError\u001b[0m: type object 'object' has no attribute '__getattr__'"
     ]
    }
   ],
   "source": [
    "from operationalController import ControlPolicy, ControlMap, ControlModule, ControlRule, OperationalController\n",
    "\n",
    "class ExecuteSchedule(ControlPolicy):\n",
    "    # sequence\n",
    "    def run(self):\n",
    "        if len(self.sequence)>0:\n",
    "            return self.sequence.pop(0)\n",
    "\n",
    "class Controller(OperationalController):\n",
    "    def __getattr__(self,attr):\n",
    "        try:\n",
    "            value = [p for p in self.policies+self.modules if p.__class__.__name__ is attr]\n",
    "            if not value:\n",
    "                raise AttributeError\n",
    "            else:\n",
    "                return value\n",
    "            return [p for p in self.policies+self.modules if p.__class__.__name__ is attr]\n",
    "        except:\n",
    "            object().__getattr__(self,attr)\n",
    "    def getitem(self,item):\n",
    "        return [p for p in self.policies+self.modules if p.__class__.__name__ is item]\n",
    "\n",
    "class Rule1(ControlRule):\n",
    "    trigger = 'new'\n",
    "    target = [ExecuteSchedule]\n",
    "\n",
    "C = Controller()\n",
    "C.policies = [ExecuteSchedule()]\n",
    "C.modules=['a']\n",
    "C.map = ControlMap()\n",
    "C.map.rules = [Rule1()]\n",
    "\n",
    "print(C.ExecuteSchedule)\n",
    "C.a"
   ]
  }
 ],
 "metadata": {
  "kernelspec": {
   "display_name": "Python 3",
   "language": "python",
   "name": "python3"
  },
  "language_info": {
   "codemirror_mode": {
    "name": "ipython",
    "version": 3
   },
   "file_extension": ".py",
   "mimetype": "text/x-python",
   "name": "python",
   "nbconvert_exporter": "python",
   "pygments_lexer": "ipython3",
   "version": "3.9.13"
  }
 },
 "nbformat": 4,
 "nbformat_minor": 2
}
